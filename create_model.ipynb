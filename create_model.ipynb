{
  "cells": [
    {
      "cell_type": "code",
      "execution_count": null,
      "metadata": {
        "id": "lbntm0D_MSmY"
      },
      "outputs": [],
      "source": [
        "from keras.models import Sequential\n",
        "from keras.layers import Conv2D, MaxPooling2D, Flatten, Dense, Dropout\n",
        "from keras.optimizers import Adam\n",
        "from keras.applications import VGG16\n",
        "from keras.preprocessing.image import ImageDataGenerator\n",
        "import os"
      ]
    },
    {
      "cell_type": "code",
      "execution_count": null,
      "metadata": {
        "colab": {
          "base_uri": "https://localhost:8080/"
        },
        "id": "REA2FEvvHxUu",
        "outputId": "22c774cf-be3f-4b23-8cca-1b1b5ae9e3d8"
      },
      "outputs": [],
      "source": [
        "\n",
        "# Define the directory containing your dataset\n",
        "dataset_dir = 'resized_data'\n",
        "\n",
        "# Define the ImageDataGenerator with augmentation parameters\n",
        "datagen = ImageDataGenerator(\n",
        "    rotation_range=20,\n",
        "    width_shift_range=0.1,\n",
        "    height_shift_range=0.1,\n",
        "    shear_range=0.1,\n",
        "    zoom_range=0.1,\n",
        "    horizontal_flip=True,\n",
        "    vertical_flip=True,\n",
        "    fill_mode='nearest'  # Strategy for filling in newly created pixels\n",
        ")\n",
        "\n",
        "# Loop through each subdirectory in the dataset directory\n",
        "for root, dirs, files in os.walk(dataset_dir):\n",
        "    for dir_name in dirs:\n",
        "        # Create a data generator for the current subdirectory\n",
        "        subdir_path = os.path.join(root, dir_name)\n",
        "        print(\"Augmenting images in:\", subdir_path)\n",
        "\n",
        "        # Generate augmented images and save them to the same directory\n",
        "        augment_generator = datagen.flow_from_directory(\n",
        "            directory=dataset_dir,  # Use the root directory of the dataset\n",
        "            classes=[dir_name],  # Specify the current subdirectory as the class\n",
        "            target_size=(250, 250),  # Resize images to 250x250\n",
        "            batch_size=32,\n",
        "            class_mode=None,  # No labels needed, as we're not training\n",
        "            save_to_dir=subdir_path,  # Save augmented images to the same directory\n",
        "            save_prefix='aug',  # Prefix for augmented image filenames\n",
        "            save_format='jpg'  # Save images as JPEG files\n",
        "        )\n",
        "\n",
        "        # Generate and save augmented images\n",
        "        num_images = len(os.listdir(subdir_path))\n",
        "        num_batches = (1000 - num_images) // 32  # Assuming target of 1000 images per class and batch size of 32\n",
        "        for i in range(num_batches):\n",
        "            batch = augment_generator.next()  # Generate a batch of augmented images\n"
      ]
    },
    {
      "cell_type": "code",
      "execution_count": null,
      "metadata": {
        "id": "W4d00UoUX5EG"
      },
      "outputs": [],
      "source": [
        "import tensorflow as tf\n",
        "from keras import layers, models\n",
        "from keras.preprocessing.image import ImageDataGenerator"
      ]
    },
    {
      "cell_type": "code",
      "execution_count": null,
      "metadata": {
        "id": "sQaefJ42Z2_K"
      },
      "outputs": [],
      "source": [
        "# Define constants\n",
        "IMAGE_SIZE = (250, 250)\n",
        "BATCH_SIZE = 32\n",
        "EPOCHS = 10\n",
        "NUM_CLASSES = 8  # Change this to the number of students you have"
      ]
    },
    {
      "cell_type": "code",
      "execution_count": null,
      "metadata": {
        "id": "-eqiWvpnbdc-"
      },
      "outputs": [],
      "source": [
        "# Create data generators for training and validation\n",
        "train_datagen = ImageDataGenerator(\n",
        "    rescale=1./255,\n",
        "    rotation_range=20,\n",
        "    width_shift_range=0.1,\n",
        "    height_shift_range=0.1,\n",
        "    shear_range=0.1,\n",
        "    zoom_range=0.1,\n",
        "    horizontal_flip=True,\n",
        "    validation_split=0.2\n",
        ")\n"
      ]
    },
    {
      "cell_type": "code",
      "execution_count": null,
      "metadata": {
        "colab": {
          "base_uri": "https://localhost:8080/"
        },
        "id": "i_XT7N_Nbhfn",
        "outputId": "20bcd091-e7fd-46bf-9d71-e1bd3b37c4cf"
      },
      "outputs": [],
      "source": [
        "train_generator = train_datagen.flow_from_directory(\n",
        "    '/content/resized_data',\n",
        "    target_size=IMAGE_SIZE,\n",
        "    batch_size=BATCH_SIZE,\n",
        "    class_mode='categorical',\n",
        "    subset='training'\n",
        ")\n"
      ]
    },
    {
      "cell_type": "code",
      "execution_count": null,
      "metadata": {
        "colab": {
          "base_uri": "https://localhost:8080/"
        },
        "id": "v78CZjN2bmwO",
        "outputId": "b7e2d1e4-6de0-4c90-b022-4129a334df6a"
      },
      "outputs": [],
      "source": [
        "validation_generator = train_datagen.flow_from_directory(\n",
        "    '/content/resized_data',\n",
        "    target_size=IMAGE_SIZE,\n",
        "    batch_size=BATCH_SIZE,\n",
        "    class_mode='categorical',\n",
        "    subset='validation'\n",
        ")"
      ]
    },
    {
      "cell_type": "code",
      "execution_count": null,
      "metadata": {
        "colab": {
          "base_uri": "https://localhost:8080/"
        },
        "id": "qfu4ZklDbp7z",
        "outputId": "1299a6fc-5847-4c31-828c-42d1a7fd6daf"
      },
      "outputs": [],
      "source": [
        "# Define model\n",
        "model = Sequential()\n",
        "\n",
        "# Add pre-trained VGG16 base\n",
        "base_model = VGG16(weights='imagenet', include_top=False, input_shape=(250, 250, 3))\n",
        "for layer in base_model.layers:\n",
        "    layer.trainable = False\n",
        "model.add(base_model)\n",
        "\n",
        "# Add additional layers\n",
        "model.add(Flatten())\n",
        "model.add(Dense(256, activation='relu'))\n",
        "model.add(Dropout(0.5))\n",
        "model.add(Dense(128, activation='relu'))\n",
        "model.add(Dense(8, activation='softmax'))  # Assuming 8 output classes\n"
      ]
    },
    {
      "cell_type": "code",
      "execution_count": null,
      "metadata": {
        "id": "INiev3kHbzyt"
      },
      "outputs": [],
      "source": [
        "# Compile model\n",
        "model.compile(optimizer=Adam(learning_rate=0.001), loss='categorical_crossentropy', metrics=['accuracy'])"
      ]
    },
    {
      "cell_type": "code",
      "execution_count": null,
      "metadata": {
        "colab": {
          "base_uri": "https://localhost:8080/"
        },
        "id": "cWCrpolOe2GC",
        "outputId": "8fd8596b-4e34-4800-d216-3eb51ad88d00"
      },
      "outputs": [],
      "source": [
        "# Print the model summary\n",
        "model.summary()"
      ]
    },
    {
      "cell_type": "code",
      "execution_count": null,
      "metadata": {
        "colab": {
          "base_uri": "https://localhost:8080/"
        },
        "id": "1JTkjWpmb2lt",
        "outputId": "ff58bc1f-6a2e-44e9-ef5d-be2250a89e77"
      },
      "outputs": [],
      "source": [
        "# Load augmented training data\n",
        "train_datagen = ImageDataGenerator(rescale=1./255)  # Rescale pixel values\n",
        "train_generator = train_datagen.flow_from_directory(\n",
        "    '/content/resized_data',\n",
        "    target_size=(250, 250),\n",
        "    batch_size=32,\n",
        "    class_mode='categorical'\n",
        ")\n",
        "\n",
        "# Train model\n",
        "history = model.fit(\n",
        "    train_generator,\n",
        "    epochs=10,\n",
        "    steps_per_epoch=len(train_generator),\n",
        ")"
      ]
    },
    {
      "cell_type": "code",
      "execution_count": null,
      "metadata": {
        "colab": {
          "base_uri": "https://localhost:8080/"
        },
        "id": "d2GSmWTndY16",
        "outputId": "8937133c-a82e-44ed-ba1f-5c8fa45395da"
      },
      "outputs": [],
      "source": [
        "# Assuming you have a separate test generator for your test dataset\n",
        "test_generator = train_datagen.flow_from_directory(\n",
        "    '/content/resized_data',\n",
        "    target_size=IMAGE_SIZE,\n",
        "    batch_size=BATCH_SIZE,\n",
        "    class_mode='categorical',\n",
        "    shuffle=False  # Ensure that the data is not shuffled for evaluation\n",
        ")\n",
        "\n",
        "# Evaluate the model on the test dataset\n",
        "test_loss, test_accuracy = model.evaluate(test_generator)\n",
        "\n",
        "print(\"Test Loss:\", test_loss)\n",
        "print(\"Test Accuracy:\", test_accuracy)\n"
      ]
    },
    {
      "cell_type": "code",
      "execution_count": null,
      "metadata": {
        "colab": {
          "base_uri": "https://localhost:8080/"
        },
        "id": "tNFZrDiwb5Lp",
        "outputId": "37f44d9c-7df4-46a1-a430-441660b91b24"
      },
      "outputs": [],
      "source": [
        "import numpy as np\n",
        "from keras.preprocessing import image\n",
        "\n",
        "# Load and preprocess the test image\n",
        "img_path = '/content/resized_data/1RN21IS167/0000.jpg'  # Replace with the path to your test image\n",
        "img = image.load_img(img_path, target_size=(250, 250))\n",
        "img_array = image.img_to_array(img)\n",
        "img_array = np.expand_dims(img_array, axis=0)\n",
        "img_array /= 255.  # Normalize pixel values to [0, 1]\n",
        "\n",
        "# Predict the class probabilities\n",
        "predictions = model.predict(img_array)\n",
        "\n",
        "# Map the predicted class probabilities to class labels\n",
        "# Assuming each class corresponds to a different student\n",
        "class_index = np.argmax(predictions)\n",
        "# Assuming you have a list of student names corresponding to class indices\n",
        "student_names = ['Rachel_Green', 'Monica_Geller', 'Phoebe_Buffay', 'Joey_Tribbiani', 'Chandler_Bing', 'Ross_Geller', 'Janice_Litman', 'Gunther']\n",
        "predicted_student = student_names[class_index]\n",
        "\n",
        "print(\"Predicted student:\", predicted_student)\n"
      ]
    },
    {
      "cell_type": "code",
      "execution_count": null,
      "metadata": {
        "id": "5qERsixddF7l"
      },
      "outputs": [],
      "source": [
        "model.save('/content/drive/My Drive/face_recognition.h5')\n"
      ]
    }
  ],
  "metadata": {
    "accelerator": "GPU",
    "colab": {
      "gpuType": "T4",
      "provenance": []
    },
    "kernelspec": {
      "display_name": "Python 3",
      "name": "python3"
    },
    "language_info": {
      "name": "python"
    }
  },
  "nbformat": 4,
  "nbformat_minor": 0
}
